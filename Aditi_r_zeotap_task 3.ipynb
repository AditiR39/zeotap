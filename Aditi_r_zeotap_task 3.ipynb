{
 "cells": [
  {
   "cell_type": "code",
   "execution_count": 1,
   "id": "fec3a08a",
   "metadata": {},
   "outputs": [],
   "source": [
    "import pandas as pd\n",
    "import numpy as np\n",
    "from sklearn.preprocessing import StandardScaler, OneHotEncoder\n",
    "from sklearn.cluster import KMeans\n",
    "from sklearn.metrics import davies_bouldin_score\n",
    "from sklearn.decomposition import PCA\n",
    "import matplotlib.pyplot as plt\n",
    "import seaborn as sns"
   ]
  },
  {
   "cell_type": "code",
   "execution_count": 4,
   "id": "114887f7",
   "metadata": {},
   "outputs": [],
   "source": [
    "customers_path = r\"C:\\Users\\Aditi\\Downloads\\zeotap\\Customers.csv\"\n",
    "transactions_path = r\"C:\\Users\\Aditi\\Downloads\\zeotap\\Transactions.csv\""
   ]
  },
  {
   "cell_type": "code",
   "execution_count": 8,
   "id": "ff25ab75",
   "metadata": {},
   "outputs": [],
   "source": [
    "customers = pd.read_csv(customers_path)\n",
    "transactions = pd.read_csv(transactions_path)"
   ]
  },
  {
   "cell_type": "code",
   "execution_count": 9,
   "id": "e894f41d",
   "metadata": {},
   "outputs": [
    {
     "name": "stdout",
     "output_type": "stream",
     "text": [
      "Index(['TransactionID', 'CustomerID', 'ProductID', 'TransactionDate',\n",
      "       'Quantity', 'TotalValue', 'Price'],\n",
      "      dtype='object')\n",
      "  CustomerID  TotalTransactionValue  AvgTransactionValue  TransactionCount\n",
      "0      C0001                3354.52              670.904                 5\n",
      "1      C0002                1862.74              465.685                 4\n",
      "2      C0003                2725.38              681.345                 4\n",
      "3      C0004                5354.88              669.360                 8\n",
      "4      C0005                2034.24              678.080                 3\n"
     ]
    }
   ],
   "source": [
    "# Ensure transactions is a DataFrame and columns are correct\n",
    "print(transactions.columns)\n",
    "\n",
    "# Aggregate transaction data by CustomerID\n",
    "transaction_summary = transactions.groupby(\"CustomerID\").agg(\n",
    "    TotalTransactionValue=(\"TotalValue\", \"sum\"),\n",
    "    AvgTransactionValue=(\"TotalValue\", \"mean\"),\n",
    "    TransactionCount=(\"TransactionID\", \"count\")\n",
    ").reset_index()\n",
    "\n",
    "# View the summary\n",
    "print(transaction_summary.head())\n"
   ]
  },
  {
   "cell_type": "code",
   "execution_count": 10,
   "id": "b336d5c5",
   "metadata": {},
   "outputs": [],
   "source": [
    "customer_data = pd.merge(customers, transaction_summary, on=\"CustomerID\", how=\"left\")\n"
   ]
  },
  {
   "cell_type": "code",
   "execution_count": 11,
   "id": "ddd2a6a0",
   "metadata": {},
   "outputs": [],
   "source": [
    "customer_data.fillna(0, inplace=True)"
   ]
  },
  {
   "cell_type": "code",
   "execution_count": null,
   "id": "102d5d98",
   "metadata": {},
   "outputs": [],
   "source": []
  }
 ],
 "metadata": {
  "kernelspec": {
   "display_name": "Python 3 (ipykernel)",
   "language": "python",
   "name": "python3"
  },
  "language_info": {
   "codemirror_mode": {
    "name": "ipython",
    "version": 3
   },
   "file_extension": ".py",
   "mimetype": "text/x-python",
   "name": "python",
   "nbconvert_exporter": "python",
   "pygments_lexer": "ipython3",
   "version": "3.11.5"
  }
 },
 "nbformat": 4,
 "nbformat_minor": 5
}
