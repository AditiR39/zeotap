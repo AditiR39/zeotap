{
 "cells": [
  {
   "cell_type": "code",
   "execution_count": 1,
   "id": "411334f4",
   "metadata": {},
   "outputs": [],
   "source": [
    "import pandas as pd\n",
    "import numpy as np\n",
    "from sklearn.preprocessing import StandardScaler, OneHotEncoder\n",
    "from sklearn.metrics.pairwise import cosine_similarity"
   ]
  },
  {
   "cell_type": "code",
   "execution_count": 2,
   "id": "36485de9",
   "metadata": {},
   "outputs": [],
   "source": [
    "customers_path = r\"C:\\Users\\Aditi\\Downloads\\zeotap\\Customers.csv\"\n",
    "products_path = r\"C:\\Users\\Aditi\\Downloads\\zeotap\\Products.csv\"\n",
    "transactions_path = r\"C:\\Users\\Aditi\\Downloads\\zeotap\\Transactions.csv\"\n",
    "\n",
    "customers = pd.read_csv(customers_path)\n",
    "products = pd.read_csv(products_path)\n",
    "transactions = pd.read_csv(transactions_path)"
   ]
  },
  {
   "cell_type": "code",
   "execution_count": 3,
   "id": "ce906415",
   "metadata": {},
   "outputs": [],
   "source": [
    "merged = transactions.merge(customers, on=\"CustomerID\").merge(products, on=\"ProductID\")"
   ]
  },
  {
   "cell_type": "code",
   "execution_count": 4,
   "id": "964fc720",
   "metadata": {},
   "outputs": [],
   "source": [
    "customer_features = merged.groupby(\"CustomerID\").agg({\n",
    "    \"TotalValue\": \"sum\",          # Total spending\n",
    "    \"Quantity\": \"sum\",            # Total quantity purchased\n",
    "    \"Category\": lambda x: list(x) # List of purchased categories\n",
    "}).reset_index()"
   ]
  },
  {
   "cell_type": "code",
   "execution_count": 5,
   "id": "59902cce",
   "metadata": {},
   "outputs": [],
   "source": [
    "scaler = StandardScaler()\n",
    "customer_features[[\"TotalValue\", \"Quantity\"]] = scaler.fit_transform(customer_features[[\"TotalValue\", \"Quantity\"]])"
   ]
  },
  {
   "cell_type": "code",
   "execution_count": 7,
   "id": "dc7033ef",
   "metadata": {},
   "outputs": [],
   "source": [
    "from sklearn.preprocessing import MultiLabelBinarizer\n",
    "\n",
    "# Initialize the MultiLabelBinarizer\n",
    "mlb = MultiLabelBinarizer()\n",
    "\n",
    "# Transform the 'Category' column\n",
    "category_encoded = mlb.fit_transform(customer_features[\"Category\"])\n",
    "\n",
    "# Convert to DataFrame for easier manipulation\n",
    "category_encoded_df = pd.DataFrame(category_encoded, columns=mlb.classes_)\n",
    "\n",
    "# Combine with the original DataFrame"
   ]
  },
  {
   "cell_type": "code",
   "execution_count": 8,
   "id": "5d1ccc59",
   "metadata": {},
   "outputs": [],
   "source": [
    "customer_features = pd.concat([customer_features.drop(columns=[\"Category\"]), category_encoded_df], axis=1)"
   ]
  },
  {
   "cell_type": "code",
   "execution_count": 9,
   "id": "5413f62b",
   "metadata": {},
   "outputs": [],
   "source": [
    "similarity_matrix = cosine_similarity(customer_features.drop(columns=[\"CustomerID\"]))"
   ]
  },
  {
   "cell_type": "code",
   "execution_count": 10,
   "id": "052edb6f",
   "metadata": {},
   "outputs": [],
   "source": [
    "lookalikes = {}\n",
    "for i, customer_id in enumerate(customer_features[\"CustomerID\"]):\n",
    "    # Get similarity scores for the current customer\n",
    "    similarities = similarity_matrix[i]\n",
    "    # Get top 3 most similar customers (excluding the customer itself)\n",
    "    top_indices = similarities.argsort()[-4:-1][::-1]  # Exclude self, pick top 3\n",
    "    top_customers = customer_features[\"CustomerID\"].iloc[top_indices]\n",
    "    top_scores = similarities[top_indices]\n",
    "    lookalikes[customer_id] = list(zip(top_customers, top_scores))"
   ]
  },
  {
   "cell_type": "code",
   "execution_count": 11,
   "id": "6817d8a4",
   "metadata": {},
   "outputs": [],
   "source": [
    "lookalike_df = pd.DataFrame([\n",
    "    {\"cust_id\": cust_id, \"lookalikes\": lookalike}\n",
    "    for cust_id, lookalike in lookalikes.items()\n",
    "])\n",
    "lookalike_df.to_csv(\"Lookalike.csv\", index=False)"
   ]
  },
  {
   "cell_type": "code",
   "execution_count": 12,
   "id": "db1fbf00",
   "metadata": {},
   "outputs": [
    {
     "name": "stdout",
     "output_type": "stream",
     "text": [
      "{'C0001': [('C0127', 0.9950160325267876), ('C0174', 0.9896788656787558), ('C0047', 0.9843295829543113)], 'C0002': [('C0062', 0.9860668430423023), ('C0144', 0.9821131770618999), ('C0159', 0.9811638438293809)], 'C0003': [('C0106', 0.9937856712043361), ('C0166', 0.9597809118655212), ('C0026', 0.9507447219675769)], 'C0004': [('C0012', 0.9762028276156669), ('C0018', 0.9581532942889139), ('C0148', 0.956398703536766)], 'C0005': [('C0140', 0.9914576584599086), ('C0007', 0.9870715284016797), ('C0199', 0.9859994968064968)], 'C0006': [('C0079', 0.9999745422306183), ('C0187', 0.9902701822379437), ('C0139', 0.9828509901211641)], 'C0007': [('C0005', 0.9870715284016797), ('C0069', 0.9793519335053376), ('C0199', 0.977666297563826)], 'C0008': [('C0169', 0.99827404983291), ('C0017', 0.993706181927608), ('C0162', 0.9931181083625585)], 'C0009': [('C0198', 0.9999798466237244), ('C0020', 0.9198842076966726), ('C0130', 0.9192111798461216)], 'C0010': [('C0176', 0.9837306689747543), ('C0142', 0.9828600600687831), ('C0132', 0.9341846462733613)], 'C0011': [('C0107', 0.9950482773613876), ('C0183', 0.9949384304194135), ('C0056', 0.9808468821208753)], 'C0012': [('C0148', 0.995773533084482), ('C0018', 0.9935938436581426), ('C0004', 0.9762028276156669)], 'C0013': [('C0155', 0.9916051671297571), ('C0099', 0.9855293706848286), ('C0101', 0.9853152386417645)], 'C0014': [('C0097', 0.9995739130400211), ('C0060', 0.9993553678795826), ('C0128', 0.9985971869580771)], 'C0015': [('C0123', 0.9988118871082295), ('C0071', 0.9849964879301893), ('C0131', 0.9786851288980469)], 'C0016': [('C0183', 0.9835839914670577), ('C0107', 0.9807152372412414), ('C0011', 0.9615265429112427)], 'C0017': [('C0113', 0.9986550042100099), ('C0162', 0.9982374534507066), ('C0169', 0.9976924215020951)], 'C0018': [('C0012', 0.9935938436581426), ('C0148', 0.9877161375179568), ('C0004', 0.9581532942889139)], 'C0019': [('C0112', 0.9635794668470099), ('C0191', 0.9620995297016187), ('C0125', 0.9579901133751114)], 'C0020': [('C0130', 0.9991564399324739), ('C0009', 0.9198842076966726), ('C0198', 0.9191935024927445)]}\n"
     ]
    }
   ],
   "source": [
    "first_20 = {k: v for k, v in lookalikes.items() if k in customers[\"CustomerID\"][:20].values}\n",
    "print(first_20)"
   ]
  },
  {
   "cell_type": "code",
   "execution_count": null,
   "id": "fdca891f",
   "metadata": {},
   "outputs": [],
   "source": []
  }
 ],
 "metadata": {
  "kernelspec": {
   "display_name": "Python 3 (ipykernel)",
   "language": "python",
   "name": "python3"
  },
  "language_info": {
   "codemirror_mode": {
    "name": "ipython",
    "version": 3
   },
   "file_extension": ".py",
   "mimetype": "text/x-python",
   "name": "python",
   "nbconvert_exporter": "python",
   "pygments_lexer": "ipython3",
   "version": "3.11.5"
  }
 },
 "nbformat": 4,
 "nbformat_minor": 5
}
